{
 "cells": [
  {
   "cell_type": "code",
   "execution_count": 3,
   "metadata": {},
   "outputs": [],
   "source": [
    "import pandas as pd\n",
    "import numpy as np\n",
    "\n",
    "# Load the dataframes\n",
    "mod_df = pd.read_excel(\"mod_df_gb.xlsx\")\n",
    "ad_df = pd.read_excel(\"ad_df_gb.xlsx\")\n",
    "\n",
    "# Sort both dataframes by their respective scores in descending order\n",
    "sorted_mod_df = mod_df.sort_values(by=\"mod_score_pred\", ascending=False)\n",
    "sorted_ad_df = ad_df.sort_values(by=\"ad_score_pred\", ascending=False)\n",
    "\n",
    "# Calculate the number of ads each moderator should get\n",
    "num_ads_per_mod = len(sorted_ad_df) // len(sorted_mod_df)\n",
    "\n",
    "# Initialize a dictionary to track the number of ads assigned to each moderator\n",
    "assigned_ads_count = {moderator: 0 for moderator in sorted_mod_df['moderator']}\n",
    "\n",
    "# Initialize a list to store the matches\n",
    "matches = []\n",
    "\n",
    "# Iterate through the ads and assign them to moderators\n",
    "for _, ad_row in sorted_ad_df.iterrows():\n",
    "    country = ad_row['delivery_country']\n",
    "    suitable_mods = sorted_mod_df[sorted_mod_df[f'\"{country}\"'] == 1.0]\n",
    "    \n",
    "    # Filter out rows with NaN values in the 'moderator' column\n",
    "    suitable_mods = suitable_mods.dropna(subset=['moderator'])\n",
    "    \n",
    "    if not suitable_mods.empty:\n",
    "        # Find a moderator with the least number of assigned ads\n",
    "        selected_mod = None\n",
    "        min_assigned_ads = float('inf')\n",
    "        for _, mod_row in suitable_mods.iterrows():\n",
    "            mod_id = mod_row['moderator']\n",
    "            if assigned_ads_count[mod_id] < min_assigned_ads:\n",
    "                selected_mod = mod_id\n",
    "                min_assigned_ads = assigned_ads_count[mod_id]\n",
    "        \n",
    "        # Update the assigned_ads_count for the selected moderator\n",
    "        assigned_ads_count[selected_mod] += 1\n",
    "        \n",
    "        # Append the match to the matches list\n",
    "        matches.append((ad_row['ad_id'], selected_mod))\n",
    "\n",
    "# Create a DataFrame from the matches\n",
    "matched_df = pd.DataFrame(matches, columns=['ad_id', 'moderator'])\n",
    "\n",
    "# Save the matched pairs to a file\n",
    "matched_df.to_excel(\"final_matched_pairs.xlsx\", index=False)\n",
    "\n"
   ]
  }
 ],
 "metadata": {
  "kernelspec": {
   "display_name": "Python 3",
   "language": "python",
   "name": "python3"
  },
  "language_info": {
   "codemirror_mode": {
    "name": "ipython",
    "version": 3
   },
   "file_extension": ".py",
   "mimetype": "text/x-python",
   "name": "python",
   "nbconvert_exporter": "python",
   "pygments_lexer": "ipython3",
   "version": "3.9.13"
  },
  "orig_nbformat": 4
 },
 "nbformat": 4,
 "nbformat_minor": 2
}
